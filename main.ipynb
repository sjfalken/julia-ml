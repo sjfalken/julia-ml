{
 "cells": [
  {
   "cell_type": "code",
   "execution_count": 2,
   "metadata": {},
   "outputs": [
    {
     "name": "stderr",
     "output_type": "stream",
     "text": [
      "\u001b[32m\u001b[1m  Activating\u001b[22m\u001b[39m project at `~/julia-ml`\n"
     ]
    },
    {
     "ename": "ErrorException",
     "evalue": "syntax: \"while\" at /home/stefan/julia-ml/main.ipynb:52 expected \"end\", got \"image\"",
     "output_type": "error",
     "traceback": [
      "syntax: \"while\" at /home/stefan/julia-ml/main.ipynb:52 expected \"end\", got \"image\"\n",
      "\n",
      "Stacktrace:\n",
      " [1] top-level scope\n",
      "   @ ~/julia-ml/main.ipynb:56"
     ]
    }
   ],
   "source": [
    "\n",
    "using Pkg\n",
    "Pkg.activate(\".\")\n",
    "\n",
    "using Images: load as imgload, imresize, mosaicview\n",
    "using ImageShow\n",
    "using Base.Filesystem: cd, readdir\n",
    "using ProgressMeter: @showprogress\n",
    "using JLD2: @save, @load\n",
    "using ColorTypes: RGB\n",
    "using FixedPointNumbers: N0f8\n",
    "datadir = \"flower\"\n",
    "tempdir = \"/tmp\"\n",
    "\n",
    "targetsize = (256, 256)\n",
    "\n",
    "function crop_and_resize_image(image)\n",
    "    if (size(image, 1) < size(image, 2))\n",
    "        newx = size(image, 1)\n",
    "        newy = size(image, 1)\n",
    "    else\n",
    "        newx = size(image, 2)\n",
    "        newy = size(image, 2)\n",
    "    end\n",
    "\n",
    "    xlower = convert(Int16, floor(size(image, 1) / 2 - newx / 2)) + 1\n",
    "    xupper = convert(Int16, floor(size(image, 1) / 2 + newx / 2 - 1)) + 1\n",
    "    ylower = convert(Int16, floor(size(image, 2) / 2 - newy / 2)) + 1\n",
    "    yupper = convert(Int16, floor(size(image, 2) / 2 + newy / 2 - 1)) + 1\n",
    "    return imresize(image[xlower:xupper, ylower:yupper], targetsize)\n",
    "end\n",
    "is_too_small(image) = size(image, 1) < targetsize[1] || size(image, 2) < targetsize[2]\n",
    "\n",
    "classes = cd(readdir, datadir)\n",
    "image_strs = [str for str in cd(readdir, class)]\n",
    "\n",
    "    for class in classes\n",
    "        image_strs = cd(readdir, class)\n",
    "\n",
    "        @info \"Class $class\"\n",
    "        images = (imgload(joinpath(class, str)) for str in image_strs)\n",
    "\n",
    "        return [image for image in images if ]\n",
    "\n",
    "        idx = 0\n",
    "        while idx < size(images)\n",
    "            while \n",
    "                idx += 1\n",
    "            end\n",
    "        end\n",
    "            \n",
    "\n",
    "        # images = images[findall()]\n",
    "        # @info typeof(images) size(images)\n",
    "        \n",
    "        # mosaicview(image, crop_and_resize_image(image); nrow = 1)\n",
    "            \n",
    "            #     min_size = size(image)\n",
    "            # end\n",
    "\n",
    "    end\n",
    "    # @info \"Summary: $num_images images with a min size of $min_size, and a max size of $max_size\"\n",
    "\n",
    "    \n",
    "end\n",
    "cd(datadir)\n",
    "next(load_images())\n",
    "# load_images(\n"
   ]
  },
  {
   "cell_type": "code",
   "execution_count": null,
   "metadata": {},
   "outputs": [],
   "source": []
  }
 ],
 "metadata": {
  "kernelspec": {
   "display_name": "Julia 1.9.0",
   "language": "julia",
   "name": "julia-1.9"
  },
  "language_info": {
   "file_extension": ".jl",
   "mimetype": "application/julia",
   "name": "julia",
   "version": "1.9.0"
  },
  "orig_nbformat": 4
 },
 "nbformat": 4,
 "nbformat_minor": 2
}
