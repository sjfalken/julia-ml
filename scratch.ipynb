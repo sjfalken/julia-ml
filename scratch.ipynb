{
 "cells": [
  {
   "cell_type": "code",
   "execution_count": 2,
   "metadata": {},
   "outputs": [
    {
     "name": "stderr",
     "output_type": "stream",
     "text": [
      "\u001b[32m\u001b[1m  Activating\u001b[22m\u001b[39m project at `~/julia-ml`\n"
     ]
    },
    {
     "data": {
      "text/plain": [
       "128"
      ]
     },
     "metadata": {},
     "output_type": "display_data"
    }
   ],
   "source": [
    "using Pkg\n",
    "Pkg.activate(\".\")\n",
    "using Flux\n",
    "using SignalAnalysis\n",
    "using WAV\n",
    "using Plots\n",
    "using MFCC\n",
    "using DSP\n",
    "using JLD2\n",
    "\n",
    "DATA = \"datasets/audioMNIST\"\n",
    "PREPROCESSED = \"preprocessed/audioMNIST\"\n",
    "RESAMPLED = \"$PREPROCESSED/resampled\"\n",
    "TRAINFILE = \"$PREPROCESSED/train.jld2\"\n",
    "NFFT=512\n",
    "NOVERLAP=128\n"
   ]
  },
  {
   "cell_type": "code",
   "execution_count": 3,
   "metadata": {},
   "outputs": [
    {
     "ename": "Base.IOError",
     "evalue": "IOError: readdir(\"datasets/audioMNIST/audioMNIST_meta.txt\"): not a directory (ENOTDIR)",
     "output_type": "error",
     "traceback": [
      "IOError: readdir(\"datasets/audioMNIST/audioMNIST_meta.txt\"): not a directory (ENOTDIR)\n",
      "\n",
      "Stacktrace:\n",
      " [1] uv_error\n",
      "   @ ./libuv.jl:100 [inlined]\n",
      " [2] readdir(dir::String; join::Bool, sort::Bool)\n",
      "   @ Base.Filesystem ./file.jl:863\n",
      " [3] readdir(dir::String)\n",
      "   @ Base.Filesystem ./file.jl:856\n",
      " [4] top-level scope\n",
      "   @ ~/julia-ml/scratch.ipynb:15"
     ]
    }
   ],
   "source": [
    "\n",
    "spec = Spectrogram(nfft=NFFT, noverlap=NOVERLAP, window=hamming)\n",
    "\n",
    "# spec = spectrogram(sample[:, 1], NFFT, NOVERLAP; fs, window=hanning)\n",
    "# @info mfcc(sample, fs)\n",
    "\n",
    "# sample[1:3:end, :]\n",
    "\n",
    "responsetype = Lowpass(8000; fs=48000)\n",
    "designmethod = Butterworth(4)\n",
    "dofilt(x) = filt(digitalfilter(responsetype, designmethod), x)\n",
    "\n",
    "\n",
    "for sname in Base.Filesystem.readdir(DATA; join=true)\n",
    "    for fname in Base.Filesystem.readdir(sname)\n",
    "        path = \"$(sname)/$(fname)\"\n",
    "        sample, fs = wavread(path)\n",
    "        resampled = dofilt(sample[1:3:end, 1])\n",
    "        wavwrite(resampled, \"$RESAMPLED/$fname\"; Fs=fs/3)\n",
    "    end\n",
    "end\n"
   ]
  },
  {
   "cell_type": "code",
   "execution_count": 11,
   "metadata": {},
   "outputs": [
    {
     "data": {
      "text/plain": [
       "(98, 13, 60, 50, 10)"
      ]
     },
     "metadata": {},
     "output_type": "display_data"
    }
   ],
   "source": [
    "\n",
    "result = zeros(98, 13, 60, 50, 10) # TODO don't hardcode 50 samples per digit\n",
    "for (i, fname) in enumerate(Base.Filesystem.readdir(RESAMPLED))\n",
    "    path = \"$(RESAMPLED)/$(fname)\"\n",
    "    sample, fs = wavread(path)\n",
    "\n",
    "    \n",
    "    digit = parse(Int, fname[1])\n",
    "    sampleidx = parse(Int, fname[6:(end-4)]) \n",
    "    speakeridx = parse(Int, fname[3:4])\n",
    "\n",
    "    sample = vcat(sample, zeros(16000 - size(sample, 1)))\n",
    "    sample = sample ./ maximum(sample)\n",
    "    result[:, :, speakeridx, sampleidx+1, digit+1]= mfcc(sample)[1]\n",
    "\n",
    "    # result[:, sampleidx+1, digit+1] = vcat(sample, zeros(16000 - size(sample, 1)))\n",
    "end\n",
    "\n",
    "\n",
    "# result = result ./ maximum(result)\n",
    "\n",
    "jldsave(\"$TRAINFILE\"; samples=result)\n",
    "size(result)\n",
    "\n",
    "# jldopen(\"$PREPROCESSED/samples.jld2\")\n",
    "\n",
    "# size(mfcc(result, 16000))\n",
    "\n",
    "\n",
    "# size(b)"
   ]
  },
  {
   "cell_type": "code",
   "execution_count": 5,
   "metadata": {},
   "outputs": [
    {
     "ename": "InterruptException",
     "evalue": "InterruptException:",
     "output_type": "error",
     "traceback": [
      "InterruptException:\n",
      "\n",
      "Stacktrace:\n",
      "  [1] eval\n",
      "    @ ./boot.jl:370 [inlined]\n",
      "  [2] include_string(mapexpr::typeof(REPL.softscope), mod::Module, code::String, filename::String)\n",
      "    @ Base ./loading.jl:1903\n",
      "  [3] #invokelatest#2\n",
      "    @ ./essentials.jl:819 [inlined]\n",
      "  [4] invokelatest\n",
      "    @ ./essentials.jl:816 [inlined]\n",
      "  [5] (::VSCodeServer.var\"#202#203\"{VSCodeServer.NotebookRunCellArguments, String})()\n",
      "    @ VSCodeServer ~/.vscode-server/extensions/julialang.language-julia-1.54.2/scripts/packages/VSCodeServer/src/serve_notebook.jl:19\n",
      "  [6] withpath(f::VSCodeServer.var\"#202#203\"{VSCodeServer.NotebookRunCellArguments, String}, path::String)\n",
      "    @ VSCodeServer ~/.vscode-server/extensions/julialang.language-julia-1.54.2/scripts/packages/VSCodeServer/src/repl.jl:274\n",
      "  [7] notebook_runcell_request(conn::VSCodeServer.JSONRPC.JSONRPCEndpoint{Base.PipeEndpoint, Base.PipeEndpoint}, params::VSCodeServer.NotebookRunCellArguments)\n",
      "    @ VSCodeServer ~/.vscode-server/extensions/julialang.language-julia-1.54.2/scripts/packages/VSCodeServer/src/serve_notebook.jl:13\n",
      "  [8] dispatch_msg(x::VSCodeServer.JSONRPC.JSONRPCEndpoint{Base.PipeEndpoint, Base.PipeEndpoint}, dispatcher::VSCodeServer.JSONRPC.MsgDispatcher, msg::Dict{String, Any})\n",
      "    @ VSCodeServer.JSONRPC ~/.vscode-server/extensions/julialang.language-julia-1.54.2/scripts/packages/JSONRPC/src/typed.jl:67\n",
      "  [9] serve_notebook(pipename::String, outputchannel_logger::Base.CoreLogging.SimpleLogger; crashreporting_pipename::String)\n",
      "    @ VSCodeServer ~/.vscode-server/extensions/julialang.language-julia-1.54.2/scripts/packages/VSCodeServer/src/serve_notebook.jl:139\n",
      " [10] top-level scope\n",
      "    @ ~/.vscode-server/extensions/julialang.language-julia-1.54.2/scripts/notebook/notebook.jl:32"
     ]
    }
   ],
   "source": [
    "jldopen(TRAINFILE, \"r\") do f\n",
    "    samples = f[\"samples\"]\n",
    "end\n",
    "\n",
    "\n",
    "\n",
    "\n"
   ]
  }
 ],
 "metadata": {
  "kernelspec": {
   "display_name": "Julia 1.9.3",
   "language": "julia",
   "name": "julia-1.9"
  },
  "language_info": {
   "file_extension": ".jl",
   "mimetype": "application/julia",
   "name": "julia",
   "version": "1.9.3"
  },
  "orig_nbformat": 4
 },
 "nbformat": 4,
 "nbformat_minor": 2
}
