{
 "cells": [
  {
   "cell_type": "code",
   "execution_count": 1,
   "metadata": {},
   "outputs": [
    {
     "name": "stderr",
     "output_type": "stream",
     "text": [
      "\u001b[32m\u001b[1m  Activating\u001b[22m\u001b[39m project at `~/julia-ml`\n"
     ]
    },
    {
     "data": {
      "text/plain": [
       "128"
      ]
     },
     "metadata": {},
     "output_type": "display_data"
    }
   ],
   "source": [
    "using Pkg\n",
    "Pkg.activate(\".\")\n",
    "using Flux\n",
    "using SignalAnalysis\n",
    "using WAV\n",
    "using Plots\n",
    "using MFCC\n",
    "using DSP\n",
    "using JLD2\n",
    "\n",
    "DATA = \"datasets/audioMNIST\"\n",
    "PREPROCESSED = \"preprocessed/audioMNIST\"\n",
    "RESAMPLED = \"$PREPROCESSED/resampled\"\n",
    "TRAINFILE = \"$PREPROCESSED/train.jld2\"\n",
    "NFFT=512\n",
    "NOVERLAP=128\n"
   ]
  },
  {
   "cell_type": "code",
   "execution_count": 2,
   "metadata": {},
   "outputs": [],
   "source": [
    "\n",
    "spec = Spectrogram(nfft=NFFT, noverlap=NOVERLAP, window=hamming)\n",
    "\n",
    "# spec = spectrogram(sample[:, 1], NFFT, NOVERLAP; fs, window=hanning)\n",
    "# @info mfcc(sample, fs)\n",
    "\n",
    "# sample[1:3:end, :]\n",
    "\n",
    "responsetype = Lowpass(8000; fs=48000)\n",
    "designmethod = Butterworth(4)\n",
    "dofilt(x) = filt(digitalfilter(responsetype, designmethod), x)\n",
    "\n",
    "\n",
    "for sname in Base.Filesystem.readdir(DATA; join=true)\n",
    "    for fname in Base.Filesystem.readdir(sname)\n",
    "        path = \"$(sname)/$(fname)\"\n",
    "        sample, fs = wavread(path)\n",
    "        resampled = dofilt(sample[1:3:end, 1])\n",
    "        resampled = resampled ./ maximum(abs.(resampled))\n",
    "        resampled = vcat(resampled, .01*randn(16000 - size(resampled, 1)))\n",
    "        wavwrite(resampled, \"$RESAMPLED/$fname\"; Fs=fs/3)\n",
    "    end\n",
    "end\n"
   ]
  },
  {
   "cell_type": "code",
   "execution_count": null,
   "metadata": {},
   "outputs": [],
   "source": [
    "\n",
    "result = zeros(98, 13, 60, 50, 10) # TODO don't hardcode 50 samples per digit\n",
    "\n",
    "count = 0\n",
    "for (i, fname) in enumerate(Base.Filesystem.readdir(RESAMPLED))\n",
    "    path = \"$(RESAMPLED)/$(fname)\"\n",
    "    sample, fs = wavread(path)\n",
    "\n",
    "    count += 1\n",
    "\n",
    "    \n",
    "    digit = parse(Int, fname[1])\n",
    "    sampleidx = parse(Int, fname[6:(end-4)]) \n",
    "    speakeridx = parse(Int, fname[3:4])\n",
    "\n",
    "\n",
    "    m = mfcc(sample)[1]\n",
    "    # display(maximum(abs.(sample)))\n",
    "    # display(mfcc(sample))\n",
    "\n",
    "    result[:, :, speakeridx, sampleidx+1, digit+1] = m\n",
    "\n",
    "    # result[:, sampleidx+1, digit+1] = vcat(sample, zeros(16000 - size(sample, 1)))\n",
    "end\n",
    "\n",
    "\n",
    "# result = result ./ maximum(result)\n",
    "\n",
    "jldsave(\"$TRAINFILE\"; samples=result)\n",
    "count\n",
    "\n",
    "# jldopen(\"$PREPROCESSED/samples.jld2\")\n",
    "\n",
    "# size(mfcc(result, 16000))\n",
    "\n",
    "\n",
    "# size(b)"
   ]
  },
  {
   "cell_type": "code",
   "execution_count": null,
   "metadata": {},
   "outputs": [],
   "source": [
    "v = jldopen(TRAINFILE, \"r\") do f\n",
    "    f[\"samples\"]\n",
    "end\n",
    "\n",
    "\n",
    "v[:, :, 1, 1, 1]\n",
    "\n",
    "\n",
    "\n"
   ]
  }
 ],
 "metadata": {
  "kernelspec": {
   "display_name": "Julia 1.9.3",
   "language": "julia",
   "name": "julia-1.9"
  },
  "language_info": {
   "file_extension": ".jl",
   "mimetype": "application/julia",
   "name": "julia",
   "version": "1.9.3"
  },
  "orig_nbformat": 4
 },
 "nbformat": 4,
 "nbformat_minor": 2
}
