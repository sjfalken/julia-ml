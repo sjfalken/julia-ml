{
 "cells": [
  {
   "cell_type": "code",
   "execution_count": 2,
   "metadata": {},
   "outputs": [
    {
     "name": "stderr",
     "output_type": "stream",
     "text": [
      "\u001b[32m\u001b[1m  Activating\u001b[22m\u001b[39m project at `~/julia-ml`\n"
     ]
    },
    {
     "data": {
      "text/plain": [
       "128"
      ]
     },
     "metadata": {},
     "output_type": "display_data"
    }
   ],
   "source": [
    "using Pkg\n",
    "Pkg.activate(\".\")\n",
    "using Flux\n",
    "using SignalAnalysis\n",
    "using WAV\n",
    "using Plots\n",
    "using MFCC\n",
    "using DSP\n",
    "using JLD2\n",
    "\n",
    "DATA = \"datasets/audioMNIST\"\n",
    "PREPROCESSED = \"preprocessed/audioMNIST\"\n",
    "RESAMPLED = \"$PREPROCESSED/resampled\"\n",
    "TRAINFILE = \"$PREPROCESSED/train.jld2\"\n",
    "NFFT=512\n",
    "NOVERLAP=128\n"
   ]
  },
  {
   "cell_type": "code",
   "execution_count": 2,
   "metadata": {},
   "outputs": [],
   "source": [
    "\n",
    "spec = Spectrogram(nfft=NFFT, noverlap=NOVERLAP, window=hamming)\n",
    "\n",
    "# spec = spectrogram(sample[:, 1], NFFT, NOVERLAP; fs, window=hanning)\n",
    "# @info mfcc(sample, fs)\n",
    "\n",
    "# sample[1:3:end, :]\n",
    "\n",
    "responsetype = Lowpass(8000; fs=48000)\n",
    "designmethod = Butterworth(4)\n",
    "dofilt(x) = filt(digitalfilter(responsetype, designmethod), x)\n",
    "\n",
    "\n",
    "for sname in Base.Filesystem.readdir(DATA; join=true)\n",
    "    for fname in Base.Filesystem.readdir(sname)\n",
    "        path = \"$(sname)/$(fname)\"\n",
    "        sample, fs = wavread(path)\n",
    "        resampled = dofilt(sample[1:3:end, 1])\n",
    "        resampled = resampled ./ maximum(abs.(resampled))\n",
    "        resampled = vcat(resampled, .001*randn(16000 - size(resampled, 1)))\n",
    "        wavwrite(resampled, \"$RESAMPLED/$fname\"; Fs=fs/3)\n",
    "    end\n",
    "end\n"
   ]
  },
  {
   "cell_type": "code",
   "execution_count": 3,
   "metadata": {},
   "outputs": [
    {
     "data": {
      "text/plain": [
       "30000"
      ]
     },
     "metadata": {},
     "output_type": "display_data"
    }
   ],
   "source": [
    "\n",
    "result = zeros(98, 13, 60, 50, 10) # TODO don't hardcode 50 samples per digit\n",
    "\n",
    "count = 0\n",
    "for (i, fname) in enumerate(Base.Filesystem.readdir(RESAMPLED))\n",
    "    path = \"$(RESAMPLED)/$(fname)\"\n",
    "    sample, fs = wavread(path)\n",
    "\n",
    "    count += 1\n",
    "\n",
    "    \n",
    "    digit = parse(Int, fname[1])\n",
    "    sampleidx = parse(Int, fname[6:(end-4)]) \n",
    "    speakeridx = parse(Int, fname[3:4])\n",
    "\n",
    "\n",
    "    m = mfcc(sample)[1]\n",
    "    # display(maximum(abs.(sample)))\n",
    "    # display(mfcc(sample))\n",
    "\n",
    "    result[:, :, speakeridx, sampleidx+1, digit+1] = m\n",
    "\n",
    "    # result[:, sampleidx+1, digit+1] = vcat(sample, zeros(16000 - size(sample, 1)))\n",
    "end\n",
    "\n",
    "\n",
    "# result = result ./ maximum(result)\n",
    "\n",
    "jldsave(\"$TRAINFILE\"; samples=result)\n",
    "count\n",
    "\n",
    "# jldopen(\"$PREPROCESSED/samples.jld2\")\n",
    "\n",
    "# size(mfcc(result, 16000))\n",
    "\n",
    "\n",
    "# size(b)"
   ]
  },
  {
   "cell_type": "code",
   "execution_count": 4,
   "metadata": {},
   "outputs": [
    {
     "data": {
      "text/plain": [
       "98×13 Matrix{Float64}:\n",
       " -1.31879    11.8812   -35.0504   …   -1.75098    6.15961     0.784658\n",
       " -0.104769   14.3677   -29.9443        8.31677    6.54818    -2.72692\n",
       " -0.789199   11.9132   -33.069         0.702421   3.75784     8.26592\n",
       "  3.95704    10.4969   -32.6097        0.503208  -3.96923     1.67991\n",
       "  8.4115      8.35469  -43.0553       -2.60654   -3.62558    -1.29019\n",
       " 14.1012      4.07182  -38.4999   …   -9.44099    0.592751   -1.0469\n",
       " 19.2323      1.8675   -36.8761       -8.40009    2.64764     1.96717\n",
       " 20.6748     -5.07048  -37.4907       -1.71315    9.7601      0.874098\n",
       " 21.2881     -5.77884  -37.5579       -9.17374   10.3758     -8.85956\n",
       " 22.8429     -7.64979  -36.907       -14.9303    13.4636     -5.85144\n",
       "  ⋮                               ⋱    ⋮                    \n",
       "  5.29723   -40.2072    -7.11785       1.47991   -2.7468      2.45945\n",
       "  5.64516   -40.7676    -8.46019  …    1.12471    1.16182     4.66058\n",
       "  5.98654   -39.4755    -6.41862      -2.57309    3.1427      1.94474\n",
       "  6.11662   -36.9929    -7.38556      -7.8753    -4.47305    -1.27068\n",
       "  5.86947   -40.0623    -7.64599      -2.20892   -4.26311     5.21493\n",
       "  4.82346   -40.0627   -11.9042       -6.47188   -8.75321    -3.59472\n",
       "  4.29916   -42.176    -13.3496   …   -5.58026   -5.13646   -10.2167\n",
       "  4.94762   -41.1209   -10.6411       -0.565457  -4.01259    -6.80386\n",
       "  7.16262   -36.3936    -5.98074      -6.50317   -0.649884   -2.17098"
      ]
     },
     "metadata": {},
     "output_type": "display_data"
    }
   ],
   "source": [
    "v = jldopen(TRAINFILE, \"r\") do f\n",
    "    f[\"samples\"]\n",
    "end\n",
    "\n",
    "\n",
    "v[:, :, 1, 1, 1]\n",
    "\n",
    "\n",
    "\n"
   ]
  }
 ],
 "metadata": {
  "kernelspec": {
   "display_name": "Julia 1.9.3",
   "language": "julia",
   "name": "julia-1.9"
  },
  "language_info": {
   "file_extension": ".jl",
   "mimetype": "application/julia",
   "name": "julia",
   "version": "1.9.3"
  },
  "orig_nbformat": 4
 },
 "nbformat": 4,
 "nbformat_minor": 2
}
